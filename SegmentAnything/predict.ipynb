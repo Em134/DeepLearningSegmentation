{
 "cells": [
  {
   "cell_type": "code",
   "execution_count": 1,
   "metadata": {},
   "outputs": [],
   "source": [
    "import torch\n",
    "import matplotlib.pyplot as plt\n",
    "from segment_anything import sam_model_registry\n",
    "from scripts import create_datasets, calculate_segmentation_metrics\n",
    "import numpy as np\n",
    "from sklearn.metrics import precision_recall_curve\n",
    "import cv2\n",
    "\n"
   ]
  },
  {
   "cell_type": "code",
   "execution_count": 2,
   "metadata": {},
   "outputs": [],
   "source": [
    "batch_size = 1\n",
    "train_dataset, val_dataset, test_dataset = create_datasets(dataset_info_path='dataset/TNBC/dataset_info.json')\n",
    "test_loader = torch.utils.data.DataLoader(dataset=test_dataset, batch_size=batch_size, shuffle=True, drop_last=True)\n"
   ]
  },
  {
   "cell_type": "code",
   "execution_count": 3,
   "metadata": {},
   "outputs": [
    {
     "data": {
      "text/plain": [
       "MySam(\n",
       "  (image_encoder): ImageEncoderViT(\n",
       "    (patch_embed): PatchEmbed(\n",
       "      (proj): Conv2d(3, 768, kernel_size=(16, 16), stride=(16, 16))\n",
       "    )\n",
       "    (blocks): ModuleList(\n",
       "      (0-11): 12 x Block(\n",
       "        (norm1): LayerNorm((768,), eps=1e-06, elementwise_affine=True)\n",
       "        (attn): Attention(\n",
       "          (qkv): Linear(in_features=768, out_features=2304, bias=True)\n",
       "          (proj): Linear(in_features=768, out_features=768, bias=True)\n",
       "        )\n",
       "        (norm2): LayerNorm((768,), eps=1e-06, elementwise_affine=True)\n",
       "        (mlp): MLPBlock(\n",
       "          (lin1): Linear(in_features=768, out_features=3072, bias=True)\n",
       "          (lin2): Linear(in_features=3072, out_features=768, bias=True)\n",
       "          (act): GELU(approximate='none')\n",
       "        )\n",
       "      )\n",
       "    )\n",
       "    (neck): Sequential(\n",
       "      (0): Conv2d(768, 256, kernel_size=(1, 1), stride=(1, 1), bias=False)\n",
       "      (1): LayerNorm2d()\n",
       "      (2): Conv2d(256, 256, kernel_size=(3, 3), stride=(1, 1), padding=(1, 1), bias=False)\n",
       "      (3): LayerNorm2d()\n",
       "    )\n",
       "  )\n",
       "  (prompt_encoder): PromptEncoder(\n",
       "    (pe_layer): PositionEmbeddingRandom()\n",
       "    (point_embeddings): ModuleList(\n",
       "      (0-3): 4 x Embedding(1, 256)\n",
       "    )\n",
       "    (not_a_point_embed): Embedding(1, 256)\n",
       "    (mask_downscaling): Sequential(\n",
       "      (0): Conv2d(1, 4, kernel_size=(2, 2), stride=(2, 2))\n",
       "      (1): LayerNorm2d()\n",
       "      (2): GELU(approximate='none')\n",
       "      (3): Conv2d(4, 16, kernel_size=(2, 2), stride=(2, 2))\n",
       "      (4): LayerNorm2d()\n",
       "      (5): GELU(approximate='none')\n",
       "      (6): Conv2d(16, 256, kernel_size=(1, 1), stride=(1, 1))\n",
       "    )\n",
       "    (no_mask_embed): Embedding(1, 256)\n",
       "  )\n",
       "  (mask_decoder): MaskDecoder(\n",
       "    (transformer): TwoWayTransformer(\n",
       "      (layers): ModuleList(\n",
       "        (0-1): 2 x TwoWayAttentionBlock(\n",
       "          (self_attn): Attention(\n",
       "            (q_proj): Linear(in_features=256, out_features=256, bias=True)\n",
       "            (k_proj): Linear(in_features=256, out_features=256, bias=True)\n",
       "            (v_proj): Linear(in_features=256, out_features=256, bias=True)\n",
       "            (out_proj): Linear(in_features=256, out_features=256, bias=True)\n",
       "          )\n",
       "          (norm1): LayerNorm((256,), eps=1e-05, elementwise_affine=True)\n",
       "          (cross_attn_token_to_image): Attention(\n",
       "            (q_proj): Linear(in_features=256, out_features=128, bias=True)\n",
       "            (k_proj): Linear(in_features=256, out_features=128, bias=True)\n",
       "            (v_proj): Linear(in_features=256, out_features=128, bias=True)\n",
       "            (out_proj): Linear(in_features=128, out_features=256, bias=True)\n",
       "          )\n",
       "          (norm2): LayerNorm((256,), eps=1e-05, elementwise_affine=True)\n",
       "          (mlp): MLPBlock(\n",
       "            (lin1): Linear(in_features=256, out_features=2048, bias=True)\n",
       "            (lin2): Linear(in_features=2048, out_features=256, bias=True)\n",
       "            (act): ReLU()\n",
       "          )\n",
       "          (norm3): LayerNorm((256,), eps=1e-05, elementwise_affine=True)\n",
       "          (norm4): LayerNorm((256,), eps=1e-05, elementwise_affine=True)\n",
       "          (cross_attn_image_to_token): Attention(\n",
       "            (q_proj): Linear(in_features=256, out_features=128, bias=True)\n",
       "            (k_proj): Linear(in_features=256, out_features=128, bias=True)\n",
       "            (v_proj): Linear(in_features=256, out_features=128, bias=True)\n",
       "            (out_proj): Linear(in_features=128, out_features=256, bias=True)\n",
       "          )\n",
       "        )\n",
       "      )\n",
       "      (final_attn_token_to_image): Attention(\n",
       "        (q_proj): Linear(in_features=256, out_features=128, bias=True)\n",
       "        (k_proj): Linear(in_features=256, out_features=128, bias=True)\n",
       "        (v_proj): Linear(in_features=256, out_features=128, bias=True)\n",
       "        (out_proj): Linear(in_features=128, out_features=256, bias=True)\n",
       "      )\n",
       "      (norm_final_attn): LayerNorm((256,), eps=1e-05, elementwise_affine=True)\n",
       "    )\n",
       "    (iou_token): Embedding(1, 256)\n",
       "    (mask_tokens): Embedding(4, 256)\n",
       "    (output_upscaling): Sequential(\n",
       "      (0): ConvTranspose2d(256, 64, kernel_size=(2, 2), stride=(2, 2))\n",
       "      (1): LayerNorm2d()\n",
       "      (2): GELU(approximate='none')\n",
       "      (3): ConvTranspose2d(64, 32, kernel_size=(2, 2), stride=(2, 2))\n",
       "      (4): GELU(approximate='none')\n",
       "    )\n",
       "    (output_hypernetworks_mlps): ModuleList(\n",
       "      (0-3): 4 x MLP(\n",
       "        (layers): ModuleList(\n",
       "          (0-1): 2 x Linear(in_features=256, out_features=256, bias=True)\n",
       "          (2): Linear(in_features=256, out_features=32, bias=True)\n",
       "        )\n",
       "      )\n",
       "    )\n",
       "    (iou_prediction_head): MLP(\n",
       "      (layers): ModuleList(\n",
       "        (0-1): 2 x Linear(in_features=256, out_features=256, bias=True)\n",
       "        (2): Linear(in_features=256, out_features=4, bias=True)\n",
       "      )\n",
       "    )\n",
       "  )\n",
       ")"
      ]
     },
     "execution_count": 3,
     "metadata": {},
     "output_type": "execute_result"
    }
   ],
   "source": [
    "model_type = 'vit_b'\n",
    "pretrained_weight_path = 'weights/MySam/BinaryMaskLoss/lr0.001_bs2_pwTrue_fimage_encoder+prompt_encoder_add/2024-04-11-13.42_16.pth'\n",
    "sam = sam_model_registry[model_type](pretrained_weight_path)\n",
    "sam.eval()\n"
   ]
  },
  {
   "cell_type": "code",
   "execution_count": 28,
   "metadata": {},
   "outputs": [
    {
     "data": {
      "image/png": "[encoded data removed]",
      "text/plain": [
       "<Figure size 800x600 with 1 Axes>"
      ]
     },
     "metadata": {},
     "output_type": "display_data"
    }
   ],
   "source": [
    "import numpy as np\n",
    "import matplotlib.pyplot as plt\n",
    "from sklearn.metrics import precision_recall_curve\n",
    "\n",
    "\n",
    "def plot_pr_curve_for_dataset(y_true_list, y_pred_prob_list):\n",
    "    all_y_true = np.concatenate(y_true_list)\n",
    "    all_y_pred_prob = np.concatenate(y_pred_prob_list)\n",
    "\n",
    "    precision, recall, thresholds = precision_recall_curve(all_y_true.flatten(), all_y_pred_prob.flatten())\n",
    "    area_under_curve = np.trapz(precision, recall)\n",
    "\n",
    "    plt.figure(figsize=(8, 6))\n",
    "    plt.plot(recall, precision, color='b', label='Precision-Recall curve (area = {:.2f})'.format(area_under_curve))\n",
    "    plt.xlabel('Recall')\n",
    "    plt.ylabel('Precision')\n",
    "    plt.title('Precision-Recall Curve')\n",
    "    plt.legend(loc='best')\n",
    "    plt.grid(True)\n",
    "\n",
    "    # 寻找最佳阈值点\n",
    "    best_threshold_index = np.argmax(precision + recall)\n",
    "    best_threshold = thresholds[best_threshold_index]\n",
    "    plt.scatter(recall[best_threshold_index], precision[best_threshold_index], c='red', s=50, label='Best Threshold: {:.2f}'.format(best_threshold))\n",
    "    plt.legend(loc='best')\n",
    "\n",
    "    plt.show()\n",
    "    return best_threshold\n",
    "\n",
    "# 用法示例\n",
    "# 假设 y_true_list 是整个验证集的真实标签列表，y_pred_prob_list 是整个验证集的模型输出的概率结果列表（每个像素点的概率）\n",
    "y_true_list = label_list\n",
    "\n",
    "y_pred_prob_list = pred_arr_list\n",
    "\n",
    "threshold = plot_pr_curve_for_dataset(y_true_list, y_pred_prob_list)"
   ]
  },
  {
   "cell_type": "code",
   "execution_count": 4,
   "metadata": {},
   "outputs": [],
   "source": [
    "threshold = 0.87"
   ]
  },
  {
   "cell_type": "code",
   "execution_count": 5,
   "metadata": {},
   "outputs": [],
   "source": [
    "def visualize_predictions(label_image, prediction_image):\n",
    "    # 确保两个图像具有相同的尺寸\n",
    "    if label_image.shape != prediction_image.shape:\n",
    "        raise ValueError(\"Label and prediction images must have the same dimensions.\")\n",
    "\n",
    "    # 创建新图像，尺寸与输入图像相同\n",
    "    fn = (prediction_image.astype(int) - label_image.astype(int)) < 0\n",
    "    fp = (label_image.astype(int) - prediction_image.astype(int)) < 0\n",
    "    tp = prediction_image.astype(int) - fp.astype(int)\n",
    "\n",
    "    return np.array([fp.astype(int), tp.astype(int), fn.astype(int)]).transpose(1, 2, 0).astype(np.uint8) * 255\n",
    "\n",
    "\n",
    "\n",
    "def draw_contours_on_image(binary_mask, original_image):\n",
    "    # 寻找连通域\n",
    "    contours, _ = cv2.findContours(binary_mask, cv2.RETR_EXTERNAL, cv2.CHAIN_APPROX_SIMPLE)\n",
    "\n",
    "    # 创建一个空白图像，与原始图像大小和通道数相同\n",
    "    result_image = original_image.copy()\n",
    "\n",
    "    # 在结果图像上绘制每个连通域的轮廓\n",
    "    cv2.drawContours(result_image, contours, -1, (0, 255, 0), 2)\n",
    "\n",
    "    return result_image\n",
    "\n"
   ]
  },
  {
   "cell_type": "code",
   "execution_count": 6,
   "metadata": {},
   "outputs": [],
   "source": [
    "test_loader = torch.utils.data.DataLoader(dataset=test_dataset, batch_size=batch_size, shuffle=True, drop_last=True)\n"
   ]
  },
  {
   "cell_type": "code",
   "execution_count": 7,
   "metadata": {},
   "outputs": [
    {
     "name": "stdout",
     "output_type": "stream",
     "text": [
      "[input_images shape in MySam: torch.Size([1, 3, 1024, 1024])]\n",
      "[input_images shape in MySam: torch.Size([1, 3, 1024, 1024])]\n",
      "[input_images shape in MySam: torch.Size([1, 3, 1024, 1024])]\n",
      "[input_images shape in MySam: torch.Size([1, 3, 1024, 1024])]\n",
      "[input_images shape in MySam: torch.Size([1, 3, 1024, 1024])]\n"
     ]
    }
   ],
   "source": [
    "import numpy as np\n",
    "\n",
    "def split_batch_images_labels(batch):\n",
    "    images_list = []\n",
    "    labels_list = []\n",
    "    for i in range(len(batch[0])):\n",
    "        image = batch[0][i].detach().numpy().transpose(1, 2, 0)  # 将通道维度放在最后\n",
    "        label = batch[1][i].detach().numpy().squeeze(0)  # 去掉第一个维度，因为标签的维度是[bs, 1, h, w]\n",
    "\n",
    "        images_list.append(image)\n",
    "        labels_list.append(label)\n",
    "    return images_list, labels_list\n",
    "\n",
    "images_list = []\n",
    "labels_list = []\n",
    "preds_list = []\n",
    "\n",
    "\n",
    "for idx, batch in enumerate(test_loader):\n",
    "    res = sam(batch[0], False)\n",
    "    for i in range(len(res)):\n",
    "        arr = torch.sigmoid(res)[i].squeeze(0).detach().numpy()\n",
    "        arr = (arr > 0.87).astype(np.uint8)\n",
    "        preds_list.append(arr)\n",
    "    temp_imgs, temp_labels = split_batch_images_labels(batch)\n",
    "    images_list.extend(temp_imgs)\n",
    "    labels_list.extend(temp_labels)\n",
    "    # break\n",
    "\n"
   ]
  },
  {
   "cell_type": "code",
   "execution_count": 13,
   "metadata": {},
   "outputs": [
    {
     "name": "stdout",
     "output_type": "stream",
     "text": [
      "{'Mean IoU': 0.6142857142857143, 'Mean Precision': 0.7999999815000004, 'Mean Recall': 0.6999999860000002, 'Mean Accuracy': 0.7222222222222222}\n"
     ]
    }
   ],
   "source": [
    "import numpy as np\n",
    "\n",
    "class MetricsCalculator:\n",
    "    def __init__(self):\n",
    "        self.metrics = {}\n",
    "\n",
    "    def add_metric(self, name, fn):\n",
    "        self.metrics[name] = fn\n",
    "\n",
    "    @staticmethod\n",
    "    def calculate_iou(gt_mask, pred_mask):\n",
    "        intersection = np.logical_and(gt_mask, pred_mask)\n",
    "        union = np.logical_or(gt_mask, pred_mask)\n",
    "        iou = np.sum(intersection) / np.sum(union)\n",
    "        return iou\n",
    "\n",
    "    @staticmethod\n",
    "    def calculate_miou(gt_masks, pred_masks):\n",
    "        num_classes = len(gt_masks)\n",
    "        miou = 0.0\n",
    "        for i in range(num_classes):\n",
    "            miou += MetricsCalculator.calculate_iou(gt_masks[i], pred_masks[i])\n",
    "        miou /= num_classes\n",
    "        return miou\n",
    "\n",
    "    @staticmethod\n",
    "    def calculate_precision(gt_mask, pred_mask):\n",
    "        true_positive = np.sum(np.logical_and(gt_mask, pred_mask))\n",
    "        false_positive = np.sum(np.logical_and(np.logical_not(gt_mask), pred_mask))\n",
    "        precision = true_positive / (true_positive + false_positive + 1e-7)\n",
    "        return precision\n",
    "\n",
    "    @staticmethod\n",
    "    def calculate_recall(gt_mask, pred_mask):\n",
    "        true_positive = np.sum(np.logical_and(gt_mask, pred_mask))\n",
    "        false_negative = np.sum(np.logical_and(gt_mask, np.logical_not(pred_mask)))\n",
    "        recall = true_positive / (true_positive + false_negative + 1e-7)\n",
    "        return recall\n",
    "\n",
    "    @staticmethod\n",
    "    def calculate_accuracy(gt_mask, pred_mask):\n",
    "        true_positive = np.sum(np.logical_and(gt_mask, pred_mask))\n",
    "        true_negative = np.sum(np.logical_and(np.logical_not(gt_mask), np.logical_not(pred_mask)))\n",
    "        total_pixels = gt_mask.size\n",
    "        accuracy = (true_positive + true_negative) / total_pixels\n",
    "        return accuracy\n",
    "\n",
    "    @staticmethod\n",
    "    def calculate_f1(gt_mask, pred_mask):\n",
    "        precision = MetricsCalculator.calculate_precision(gt_mask, pred_mask)\n",
    "        recall = MetricsCalculator.calculate_recall(gt_mask, pred_mask)\n",
    "        f1 = 2 * (precision * recall) / (precision + recall + 1e-7)\n",
    "        return f1\n",
    "\n",
    "    @staticmethod\n",
    "    def calculate_specificity(gt_mask, pred_mask):\n",
    "        true_negative = np.sum(np.logical_and(np.logical_not(gt_mask), np.logical_not(pred_mask)))\n",
    "        false_positive = np.sum(np.logical_and(np.logical_not(gt_mask), pred_mask))\n",
    "        specificity = true_negative / (true_negative + false_positive + 1e-7)\n",
    "        return specificity\n",
    "\n",
    "    @staticmethod\n",
    "    def calculate_jaccard_index(gt_mask, pred_mask):\n",
    "        intersection = np.logical_and(gt_mask, pred_mask)\n",
    "        union = np.logical_or(gt_mask, pred_mask)\n",
    "        jaccard_index = np.sum(intersection) / np.sum(union)\n",
    "        return jaccard_index\n",
    "\n",
    "    @staticmethod\n",
    "    def calculate_dice_coefficient(gt_mask, pred_mask):\n",
    "        intersection = np.logical_and(gt_mask, pred_mask)\n",
    "        dice_coefficient = (2 * np.sum(intersection)) / (np.sum(gt_mask) + np.sum(pred_mask) + 1e-7)\n",
    "        return dice_coefficient\n",
    "\n",
    "    @staticmethod\n",
    "    def calculate_sensitivity(gt_mask, pred_mask):\n",
    "        true_positive = np.sum(np.logical_and(gt_mask, pred_mask))\n",
    "        false_negative = np.sum(np.logical_and(gt_mask, np.logical_not(pred_mask)))\n",
    "        sensitivity = true_positive / (true_positive + false_negative + 1e-7)\n",
    "        return sensitivity\n",
    "\n",
    "    def calculate_metrics(self, gt_masks, pred_masks):\n",
    "        num_classes = len(gt_masks)\n",
    "\n",
    "        metrics = {name: [] for name in self.metrics}\n",
    "\n",
    "        for i in range(num_classes):\n",
    "            for name, fn in self.metrics.items():\n",
    "                value = fn(gt_masks[i], pred_masks[i])\n",
    "                metrics[name].append(value)\n",
    "\n",
    "        metrics_dict = {\n",
    "            name: np.mean(values) for name, values in metrics.items()\n",
    "        }\n",
    "\n",
    "        return metrics_dict"
   ]
  },
  {
   "cell_type": "code",
   "execution_count": 8,
   "metadata": {},
   "outputs": [
    {
     "data": {
      "text/plain": [
       "<matplotlib.image.AxesImage at 0x7f674e7f3100>"
      ]
     },
     "execution_count": 8,
     "metadata": {},
     "output_type": "execute_result"
    },
    {
     "data": {
      "image/png": "[encoded data removed]",
      "text/plain": [
       "<Figure size 640x480 with 1 Axes>"
      ]
     },
     "metadata": {},
     "output_type": "display_data"
    }
   ],
   "source": [
    "plt.imshow(preds_list[0])"
   ]
  },
  {
   "cell_type": "code",
   "execution_count": 10,
   "metadata": {},
   "outputs": [],
   "source": [
    "from scripts import MetricsCalculator\n",
    "\n",
    "metrics_calculator = MetricsCalculator()\n",
    "\n",
    "# 在calculate_metrics中计算所有指标\n",
    "metrics = metrics_calculator.calculate_metrics(labels_list, preds_list)"
   ]
  },
  {
   "cell_type": "code",
   "execution_count": 11,
   "metadata": {},
   "outputs": [
    {
     "data": {
      "text/plain": [
       "{'AccuracyMetric': 0.9482761383055738,\n",
       " 'F1ScoreMetric': 0.6660512584809666,\n",
       " 'IOUMetric': 0.5474135875474395,\n",
       " 'MeanIoUMetric': nan,\n",
       " 'PrecisionMetric': 0.7426370677414127,\n",
       " 'RecallMetric': 0.6296789029344569}"
      ]
     },
     "execution_count": 11,
     "metadata": {},
     "output_type": "execute_result"
    }
   ],
   "source": [
    "metrics"
   ]
  },
  {
   "cell_type": "code",
   "execution_count": 61,
   "metadata": {},
   "outputs": [
    {
     "name": "stderr",
     "output_type": "stream",
     "text": [
      "Clipping input data to the valid range for imshow with RGB data ([0..1] for floats or [0..255] for integers).\n",
      "Clipping input data to the valid range for imshow with RGB data ([0..1] for floats or [0..255] for integers).\n",
      "Clipping input data to the valid range for imshow with RGB data ([0..1] for floats or [0..255] for integers).\n",
      "Clipping input data to the valid range for imshow with RGB data ([0..1] for floats or [0..255] for integers).\n",
      "Clipping input data to the valid range for imshow with RGB data ([0..1] for floats or [0..255] for integers).\n"
     ]
    }
   ],
   "source": [
    "for i in range(len(images_list)):\n",
    "    arr = preds_list[i]\n",
    "    original_label = labels_list[i].astype(np.uint8)\n",
    "    ori_image = images_list[i]\n",
    "\n",
    "    binary = arr > threshold\n",
    "    binary = binary.astype(np.uint8)\n",
    "    diff_mask = visualize_predictions(original_label, binary)\n",
    "    ori_image = draw_contours_on_image(binary, ori_image)\n",
    "\n",
    "    \n",
    "    fig, axes = plt.subplots(1, 4, figsize=(15, 4))\n",
    "    # 设置第一个子图为预测结果\n",
    "    axes[0].imshow(binary, cmap='gray')\n",
    "    axes[0].axis('off')\n",
    "    axes[0].set_title('Prediction')\n",
    "\n",
    "    # 设置第二个子图为原始标签\n",
    "    axes[1].imshow(original_label, cmap='gray')\n",
    "    axes[1].axis('off')\n",
    "    axes[1].set_title('Original Label')\n",
    "\n",
    "    # 设置第三个子图为叠加结果\n",
    "    axes[2].imshow(diff_mask)\n",
    "    axes[2].axis('off')\n",
    "    axes[2].set_title('G:TP R:FP B:FN')\n",
    "\n",
    "    # 设置第三个子图为原始图像\n",
    "    axes[3].imshow(ori_image)  # 假设原始图像是3通道的\n",
    "    axes[3].axis('off')\n",
    "    axes[3].set_title('Original Image')\n",
    "    # 调整子图之间的间距\n",
    "    plt.tight_layout()\n",
    "    # 保存整个图形\n",
    "    plt.savefig('predict_results/result_figure_{}.png'.format(i))\n",
    "    plt.close()"
   ]
  }
 ],
 "metadata": {
  "kernelspec": {
   "display_name": "unsam",
   "language": "python",
   "name": "python3"
  },
  "language_info": {
   "codemirror_mode": {
    "name": "ipython",
    "version": 3
   },
   "file_extension": ".py",
   "mimetype": "text/x-python",
   "name": "python",
   "nbconvert_exporter": "python",
   "pygments_lexer": "ipython3",
   "version": "3.10.13"
  }
 },
 "nbformat": 4,
 "nbformat_minor": 2
}
